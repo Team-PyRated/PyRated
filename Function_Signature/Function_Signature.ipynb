{
 "cells": [
  {
   "cell_type": "code",
   "execution_count": 1,
   "metadata": {},
   "outputs": [],
   "source": [
    "import re\n",
    "from collections import Counter\n",
    "error_flag=False\n",
    "def lines_words(file):\n",
    "    try:\n",
    "        updated_lines = []\n",
    "        change_words={}\n",
    "        for line in file:\n",
    "            if(not line.startswith(\"//\") and line!=\"\\n\"  and not line.startswith('#') and not line.startswith('using')):\n",
    "                updated_lines.append(line.lower().strip())\n",
    "            try:\n",
    "                if(line.startswith(\"#define\")):\n",
    "                    words = line.split(' ')\n",
    "                    #print(words)\n",
    "                    replace = words[1]\n",
    "                    string = \"\"\n",
    "                    for i in range(2,len(words)):\n",
    "                        string += words[i]\n",
    "                        string += \" \"\n",
    "                    string = string[:-2]\n",
    "                    #print(string)\n",
    "                    change_words[replace] = string\n",
    "            except:\n",
    "                pass\n",
    "        code=\"\"\n",
    "        for i in range(len(updated_lines)):\n",
    "            code += updated_lines[i]\n",
    "\n",
    "        code = code.translate({ord(\"}\"):\"}; \",ord(\"(\"):\" ( \",ord(\"{\"):\" { ;\"})\n",
    "        for key,value in change_words.items():\n",
    "            code=code.replace(key,value)\n",
    "\n",
    "        lines_code=code.split(';')\n",
    "        return lines_code\n",
    "    except:\n",
    "        error_flag=True\n",
    "        return []"
   ]
  },
  {
   "cell_type": "code",
   "execution_count": 2,
   "metadata": {},
   "outputs": [],
   "source": [
    "def hashmap_function(lines_code,hashmap):\n",
    "    try:\n",
    "        pattern =\"\\((.*?)\\)\"\n",
    "        for i in range(len(lines_code)): \n",
    "            if ('{'in lines_code[i] and '(' in lines_code[i] and ')' in lines_code[i] and not('for ' in lines_code[i]) \n",
    "                and not('while ' in lines_code[i]) and not('main' in lines_code[i]) and not('if ' in lines_code[i])):\n",
    "\n",
    "                substring = re.search(pattern, lines_code[i]).group(1)\n",
    "                #print(substring)\n",
    "                count_parameter=[]\n",
    "                type_parameter=[]\n",
    "                parameters = (substring.split(','))\n",
    "                #print(parameters)\n",
    "                parameter_type = [i.strip().rsplit(' ', 1)[0] for i in parameters]\n",
    "                #print(parameter_type)\n",
    "                count_parameter_all = dict(Counter(parameter_type))\n",
    "                for key,value in count_parameter_all.items():\n",
    "                    if key != \"\":\n",
    "                        count_parameter.append(value)\n",
    "                        type_parameter.append(key)\n",
    "\n",
    "                #print(lines_code[i])\n",
    "                words = lines_code[i].strip().split()\n",
    "                if(words[0]=='static' or words[0]=='inline'):\n",
    "                    words[0]=''\n",
    "                return_type=\"\"\n",
    "                #print(words)\n",
    "                for j in range(len(words)):\n",
    "                    if(words[j]=='('):\n",
    "                        for k in range(j-1):\n",
    "                            return_type +=words[k]\n",
    "                            return_type +=\" \"\n",
    "                        break\n",
    "                #print(count_parameter)\n",
    "                function_signature=(return_type.strip(),tuple(count_parameter),tuple(type_parameter))\n",
    "                print(function_signature)\n",
    "                hash_value=hash(function_signature)\n",
    "                if hash_value not in hashmap:\n",
    "                    hashmap[hash_value]=1\n",
    "                else:\n",
    "                    hashmap[hash_value]+=1\n",
    "    except:\n",
    "        error_flag=True\n",
    "        pass"
   ]
  },
  {
   "cell_type": "code",
   "execution_count": 3,
   "metadata": {},
   "outputs": [],
   "source": [
    "def common_percentage(hashmap1,hashmap2):\n",
    "    common=[min(hashmap1[i],hashmap2[i]) for i in hashmap1 if i in hashmap2]\n",
    "    \n",
    "    try:\n",
    "        val = (2*sum(common)/(sum(hashmap1.values())+sum(hashmap2.values())))*100\n",
    "        if(not error_flag):\n",
    "            return val\n",
    "        elif (val!=0):\n",
    "            return val\n",
    "        else:\n",
    "            return 100\n",
    "    except:\n",
    "        return 100"
   ]
  },
  {
   "cell_type": "code",
   "execution_count": 4,
   "metadata": {},
   "outputs": [
    {
     "name": "stdout",
     "output_type": "stream",
     "text": [
      "('temake_pairlate <typename t> std::ostream&', (1, 1), ('std::ostream&', 'const vector<t>&'))\n",
      "('temake_pairlate <typename t> std::istream&', (1, 1), ('std::istream&', 'vector<t>&'))\n",
      "('temake_pairlate <typename t,typename u> std::ostream&', (1, 1, 1), ('std::ostream&', 'const', 'u>&'))\n",
      "('temake_pairlate <typename t,typename u> std::istream&', (1, 1, 1), ('std::istream&', 'pair<t', 'u>&'))\n",
      "('temake_pairlate <typename t> void', (1, 1), ('vector<t>&', 'const t'))\n",
      "('temake_pairlate <typename t> void', (1, 1), ('vector<t>&', 'const t'))\n",
      "('temake_pairlate <typename t> void', (1,), ('vector<t>&',))\n",
      "('temake_pairlate <typename t> void', (1, 1), ('vector<t>&', 't'))\n",
      "('temake_pairlate <typename t> void', (1,), ('vector<t>&',))\n",
      "('temake_pairlate <typename t> void', (1, 1), ('vector<t>&', 't'))\n",
      "('temake_pairlate <typename t> void', (1, 1), ('vector<t>&', 'const t'))\n",
      "('temake_pairlate <typename t> void', (1, 1), ('vector<t>&', 'const t'))\n",
      "('temake_pairlate <typename t,typename u> void', (1, 1, 1), ('pair<t', 'u>&', 'const t'))\n",
      "('temake_pairlate <typename t,typename u> void', (1, 1, 1), ('pair<t', 'u>&', 'const t'))\n",
      "('temake_pairlate <typename t,typename u> void', (1, 1), ('pair<t', 'u>&'))\n",
      "('temake_pairlate <typename t,typename u> void', (1, 1, 1), ('pair<t', 'u>&', 't'))\n",
      "('temake_pairlate <typename t,typename u> void', (1, 1), ('pair<t', 'u>&'))\n",
      "('temake_pairlate <typename t,typename u> void', (1, 1, 1), ('pair<t', 'u>&', 't'))\n",
      "('temake_pairlate <typename t,typename u> void', (1, 1, 1), ('pair<t', 'u>&', 'const t'))\n",
      "('temake_pairlate <typename t,typename u> void', (1, 1, 1), ('pair<t', 'u>&', 'const t'))\n",
      "('string', (1,), ('const string&',))\n",
      "('string', (1,), ('char',))\n",
      "('string', (1,), ('const char*',))\n",
      "('string', (1,), ('bool',))\n",
      "('string', (1,), ('vector<bool>',))\n",
      "('temake_pairlate <size_t n>string', (1,), ('bitset<n>',))\n",
      "('temake_pairlate <typename a>string', (1,), ('a',))\n",
      "('temake_pairlate <typename a, typename b>string', (1, 1), ('pair<a', 'b>'))\n",
      "('temake_pairlate <typename a, typename b, typename c>string', (1, 1, 1), ('tuple<a', 'b', 'c>'))\n",
      "('temake_pairlate <typename a, typename b, typename c, typename d>string', (1, 1, 1, 1), ('tuple<a', 'b', 'c', 'd>'))\n",
      "('temake_pairlate<class t> bool', (1, 1), ('t&', 'const t&'))\n",
      "('temake_pairlate<class t> bool', (1, 1), ('t&', 'const t&'))\n",
      "('void', (), ())\n",
      "('temake_pairlate <typename head, typename... tail>void', (1, 1), ('head', 'tail...'))\n",
      "('void', (1,), ('int',))\n",
      "('temake_pairlate <typename head, typename... tail>void', (1, 1, 1), ('int', 'head', 'tail & ...'))\n",
      "('void', (), ())\n",
      "('temake_pairlate <typename head, typename... tail>void', (1, 1), ('head', 'tail & ...'))\n",
      "('void', (), ())\n",
      "{-8959878784289141057: 1, -581293846265395545: 1, 6405611504396042474: 1, -7115130431346131077: 1, 391179818822971361: 4, 1396883263920448147: 2, 3476512012716714563: 2, -3753849615731757354: 4, 1496474233432677806: 2, -5692743339771436284: 2, 2985517669860335803: 1, 3021243137244612125: 1, 2247260170365065795: 1, -6022356322094166904: 1, -721259608084157864: 1, -368321490736623447: 1, 2565955170273693545: 1, 4243685486237245041: 1, -3796305949240985223: 1, 1506719253830545106: 1, 8321214057018515446: 2, 7537188748328037497: 3, 1784674453273469700: 1, -2683234939536642333: 1, -1907461334238735274: 1, -6656404827045388052: 1}\n"
     ]
    }
   ],
   "source": [
    "hashmap1={}\n",
    "file = open(r\"A.cpp\",'r')\n",
    "lines_code=lines_words(file)\n",
    "hashmap_function(lines_code,hashmap1)\n",
    "print(hashmap1)"
   ]
  },
  {
   "cell_type": "code",
   "execution_count": 5,
   "metadata": {},
   "outputs": [
    {
     "name": "stdout",
     "output_type": "stream",
     "text": [
      "('', (3, 1), ('std::string', 'int'))\n",
      "('std::string', (), ())\n",
      "('std::string', (), ())\n",
      "('std::string', (), ())\n",
      "('int', (), ())\n",
      "('korisnik', (), ())\n",
      "('void', (1,), ('korisnik',))\n",
      "('void', (), ())\n",
      "('bool', (), ())\n",
      "('', (1,), ('const biblioteka',))\n",
      "('biblioteka &biblioteka::operator', (1,), ('biblioteka',))\n",
      "('void', (1, 4), ('int', 'std::string'))\n",
      "('void', (2, 3), ('int', 'std::string'))\n",
      "('korisnik', (1,), ('int',))\n",
      "('const korisnik', (1,), ('int',))\n",
      "('knjiga', (1,), ('int',))\n",
      "('const knjiga', (1,), ('int',))\n",
      "('void', (), ())\n",
      "('void', (), ())\n",
      "('void', (2,), ('int',))\n",
      "('void', (1,), ('int',))\n",
      "('void', (1,), ('int',))\n",
      "('try tijelo', (1,), ('izuzetak',))\n",
      "{-2119768783489209842: 1, -1328274332808593961: 3, -4940995989761889662: 1, -2700487225133768042: 1, 2787761943525592927: 1, 7537188748328037497: 3, 1737325919675198485: 1, -5805233901883222964: 1, -6171969095265571245: 1, 6079725478919717613: 1, -5887702663859038601: 1, -6289211416506410308: 1, 2344651983233139796: 1, 7777042289331044213: 1, 6658634159474847006: 1, 2246111738229791384: 1, -2683234939536642333: 2, 3032097772472420826: 1}\n"
     ]
    }
   ],
   "source": [
    "hashmap2={}\n",
    "file = open(r\"B.cpp\",'r')\n",
    "lines_code=lines_words(file)\n",
    "hashmap_function(lines_code,hashmap2)\n",
    "print(hashmap2)"
   ]
  },
  {
   "cell_type": "code",
   "execution_count": 6,
   "metadata": {},
   "outputs": [
    {
     "data": {
      "text/plain": [
       "12.903225806451612"
      ]
     },
     "execution_count": 6,
     "metadata": {},
     "output_type": "execute_result"
    }
   ],
   "source": [
    "percentage_same=common_percentage(hashmap1,hashmap2)\n",
    "percentage_same"
   ]
  },
  {
   "cell_type": "code",
   "execution_count": null,
   "metadata": {},
   "outputs": [],
   "source": []
  }
 ],
 "metadata": {
  "kernelspec": {
   "display_name": "Python 3",
   "language": "python",
   "name": "python3"
  },
  "language_info": {
   "codemirror_mode": {
    "name": "ipython",
    "version": 3
   },
   "file_extension": ".py",
   "mimetype": "text/x-python",
   "name": "python",
   "nbconvert_exporter": "python",
   "pygments_lexer": "ipython3",
   "version": "3.7.6"
  }
 },
 "nbformat": 4,
 "nbformat_minor": 4
}
