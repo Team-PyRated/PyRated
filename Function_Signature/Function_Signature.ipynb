{
 "cells": [
  {
   "cell_type": "code",
   "execution_count": 1,
   "metadata": {},
   "outputs": [],
   "source": [
    "import re\n",
    "from collections import Counter\n",
    "def lines_words(file):\n",
    "    updated_lines = []\n",
    "    change_words={}\n",
    "    for line in file:\n",
    "        if(not line.startswith(\"//\") and line!=\"\\n\"  and not line.startswith('#') and not line.startswith('using')):\n",
    "            updated_lines.append(line.lower().strip())\n",
    "        if(line.startswith(\"#define\")):\n",
    "            words = line.split(' ')\n",
    "            #print(words)\n",
    "            replace = words[1]\n",
    "            string = \"\"\n",
    "            for i in range(2,len(words)):\n",
    "                string += words[i]\n",
    "                string += \" \"\n",
    "            string = string[:-2]\n",
    "            #print(string)\n",
    "            change_words[replace] = string\n",
    "    code=\"\"\n",
    "    for i in range(len(updated_lines)):\n",
    "        code += updated_lines[i]\n",
    "        \n",
    "    code = code.translate({ord(\"}\"):\"}; \",ord(\"(\"):\" ( \",ord(\"{\"):\" { ;\"})\n",
    "    for key,value in change_words.items():\n",
    "        code=code.replace(key,value)\n",
    "        \n",
    "    lines_code=code.split(';')\n",
    "    return lines_code"
   ]
  },
  {
   "cell_type": "code",
   "execution_count": 2,
   "metadata": {},
   "outputs": [],
   "source": [
    "def hashmap_function(lines_code,hashmap):\n",
    "\n",
    "    pattern =\"\\((.*?)\\)\"\n",
    "    for i in range(len(lines_code)): \n",
    "        if ('{'in lines_code[i] and '(' in lines_code[i] and ')' in lines_code[i] and not('for ' in lines_code[i]) \n",
    "            and not('while ' in lines_code[i]) and not('main' in lines_code[i]) and not('if ' in lines_code[i])):\n",
    "\n",
    "            substring = re.search(pattern, lines_code[i]).group(1)\n",
    "            #print(substring)\n",
    "            count_parameter=[]\n",
    "            type_parameter=[]\n",
    "            parameters = (substring.split(','))\n",
    "            #print(parameters)\n",
    "            parameter_type = [i.strip().rsplit(' ', 1)[0] for i in parameters]\n",
    "            #print(parameter_type)\n",
    "            count_parameter_all = dict(Counter(parameter_type))\n",
    "            for key,value in count_parameter_all.items():\n",
    "                if key != \"\":\n",
    "                    count_parameter.append(value)\n",
    "                    type_parameter.append(key)\n",
    "\n",
    "            #print(lines_code[i])\n",
    "            words = lines_code[i].strip().split()\n",
    "            if(words[0]=='static' or words[0]=='inline'):\n",
    "                words[0]=''\n",
    "            return_type=\"\"\n",
    "            #print(words)\n",
    "            for j in range(len(words)):\n",
    "                if(words[j]=='('):\n",
    "                    for k in range(j-1):\n",
    "                        return_type +=words[k]\n",
    "                        return_type +=\" \"\n",
    "                    break\n",
    "            #print(count_parameter)\n",
    "            function_signature=(return_type.strip(),tuple(count_parameter),tuple(type_parameter))\n",
    "            print(function_signature)\n",
    "            hash_value=hash(function_signature)\n",
    "            if hash_value not in hashmap:\n",
    "                hashmap[hash_value]=1\n",
    "            else:\n",
    "                hashmap[hash_value]+=1\n",
    "                "
   ]
  },
  {
   "cell_type": "code",
   "execution_count": 3,
   "metadata": {},
   "outputs": [],
   "source": [
    "def common_percentage(hashmap1,hashmap2):\n",
    "    common=[min(hashmap1[i],hashmap2[i]) for i in hashmap1 if i in hashmap2]\n",
    "    return (2*sum(common)/(sum(hashmap1.values())+sum(hashmap2.values())))*100"
   ]
  },
  {
   "cell_type": "code",
   "execution_count": 4,
   "metadata": {},
   "outputs": [
    {
     "name": "stdout",
     "output_type": "stream",
     "text": [
      "('struct stack*', (1,), ('unsigned',))\n",
      "('int', (1,), ('struct stack*',))\n",
      "('int', (1,), ('struct stack*',))\n",
      "('void', (1, 1), ('struct stack', 'int'))\n",
      "('int', (1,), ('struct stack*',))\n",
      "('void', (2, 1), ('char', 'int'))\n",
      "('void', (2, 2), ('struct stack', 'char'))\n",
      "('void', (1, 1, 2), ('int', 'struct', 'struct stack'))\n",
      "{8230747764582557976: 1, 2404984510503735030: 3, 5602439412869524867: 1, 6036432074540662346: 1, -2129771295886747053: 1, 4360842013394742957: 1}\n"
     ]
    }
   ],
   "source": [
    "hashmap1={}\n",
    "file = open(r\"q02.cpp\",'r')\n",
    "lines_code=lines_words(file)\n",
    "hashmap_function(lines_code,hashmap1)\n",
    "print(hashmap1)"
   ]
  },
  {
   "cell_type": "code",
   "execution_count": 5,
   "metadata": {},
   "outputs": [
    {
     "name": "stdout",
     "output_type": "stream",
     "text": [
      "('struct stack*', (1,), ('unsigned',))\n",
      "('int', (1,), ('struct stack*',))\n",
      "('int', (1,), ('struct stack*',))\n",
      "('void', (1, 1), ('struct stack', 'int'))\n",
      "('int', (1,), ('struct stack*',))\n",
      "('void', (2, 1), ('char', 'int'))\n",
      "('void', (2, 2), ('struct stack', 'char'))\n",
      "('void', (1, 1, 2), ('int', 'struct', 'struct stack'))\n",
      "{8230747764582557976: 1, 2404984510503735030: 3, 5602439412869524867: 1, 6036432074540662346: 1, -2129771295886747053: 1, 4360842013394742957: 1}\n"
     ]
    }
   ],
   "source": [
    "hashmap2={}\n",
    "file = open(r\"q03.cpp\",'r')\n",
    "lines_code=lines_words(file)\n",
    "hashmap_function(lines_code,hashmap2)\n",
    "print(hashmap2)"
   ]
  },
  {
   "cell_type": "code",
   "execution_count": 6,
   "metadata": {},
   "outputs": [
    {
     "data": {
      "text/plain": [
       "100.0"
      ]
     },
     "execution_count": 6,
     "metadata": {},
     "output_type": "execute_result"
    }
   ],
   "source": [
    "percentage_same=common_percentage(hashmap1,hashmap2)\n",
    "percentage_same"
   ]
  },
  {
   "cell_type": "code",
   "execution_count": null,
   "metadata": {},
   "outputs": [],
   "source": []
  }
 ],
 "metadata": {
  "kernelspec": {
   "display_name": "Python 3",
   "language": "python",
   "name": "python3"
  },
  "language_info": {
   "codemirror_mode": {
    "name": "ipython",
    "version": 3
   },
   "file_extension": ".py",
   "mimetype": "text/x-python",
   "name": "python",
   "nbconvert_exporter": "python",
   "pygments_lexer": "ipython3",
   "version": "3.7.6"
  }
 },
 "nbformat": 4,
 "nbformat_minor": 4
}
